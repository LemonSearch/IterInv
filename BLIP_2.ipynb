{
 "cells": [
  {
   "cell_type": "code",
   "execution_count": 1,
   "metadata": {},
   "outputs": [
    {
     "name": "stdout",
     "output_type": "stream",
     "text": [
      "[2023-09-08 10:34:28,676] [INFO] [real_accelerator.py:133:get_accelerator] Setting ds_accelerator to cuda (auto detect)\n"
     ]
    },
    {
     "data": {
      "application/vnd.jupyter.widget-view+json": {
       "model_id": "568a9c671f3740169bd7336462ffa29c",
       "version_major": 2,
       "version_minor": 0
      },
      "text/plain": [
       "Loading checkpoint shards:   0%|          | 0/2 [00:00<?, ?it/s]"
      ]
     },
     "metadata": {},
     "output_type": "display_data"
    }
   ],
   "source": [
    "from PIL import Image\n",
    "import requests\n",
    "from transformers import Blip2Processor, Blip2ForConditionalGeneration\n",
    "import torch\n",
    "\n",
    "torch.cuda.set_device(5)\n",
    "device = torch.device('cuda')\n",
    "\n",
    "device = \"cuda\" if torch.cuda.is_available() else \"cpu\"\n",
    "processor = Blip2Processor.from_pretrained(\"Salesforce/blip2-opt-2.7b\")\n",
    "model = Blip2ForConditionalGeneration.from_pretrained(\n",
    "    \"Salesforce/blip2-opt-2.7b\", torch_dtype=torch.float16\n",
    ")\n",
    "\n",
    "model.to(device)\n",
    "\n",
    "def BLIP_predict(img_pth):\n",
    "\n",
    "    # url = \"http://images.cocodataset.org/val2017/000000039769.jpg\"\n",
    "    # image = Image.open(requests.get(url, stream=True).raw)\n",
    "    # img_pth='images/download_imgs/buildings.jpg'\n",
    "\n",
    "    image = Image.open(img_pth).convert(\"RGB\")\n",
    "\n",
    "    inputs = processor(images=image, return_tensors=\"pt\").to(device, torch.float16)\n",
    "\n",
    "    generated_ids = model.generate(**inputs)\n",
    "    generated_text = processor.batch_decode(generated_ids, skip_special_tokens=True)[0].strip()\n",
    "    print(generated_text)\n",
    "    return generated_text"
   ]
  },
  {
   "cell_type": "code",
   "execution_count": 2,
   "metadata": {},
   "outputs": [
    {
     "name": "stdout",
     "output_type": "stream",
     "text": [
      "a cat sitting on a wooden counter looking at itself in the mirror\n"
     ]
    },
    {
     "name": "stderr",
     "output_type": "stream",
     "text": [
      "/home-local/kwang-local/miniconda3/envs/floydkai/lib/python3.11/site-packages/transformers/generation/utils.py:1353: UserWarning: Using `max_length`'s default (20) to control the generation length. This behaviour is deprecated and will be removed from the config in v5 of Transformers -- we recommend using `max_new_tokens` to control the maximum length of the generation.\n",
      "  warnings.warn(\n"
     ]
    }
   ],
   "source": [
    "file_path = 'images/gnochi_mirror.jpeg'\n",
    "\n",
    "generated_text = BLIP_predict(file_path)\n",
    "\n"
   ]
  },
  {
   "cell_type": "markdown",
   "metadata": {},
   "source": [
    "# Use BLIP to create prompt text files."
   ]
  },
  {
   "cell_type": "markdown",
   "metadata": {},
   "source": [
    "## for Plug-and-Play-datasets, in PnP"
   ]
  },
  {
   "cell_type": "code",
   "execution_count": null,
   "metadata": {},
   "outputs": [],
   "source": [
    "# img_pth = 'images/Plug-and-Play-datasets/wild-ti2i/data/bear.jpeg'\n",
    "import os\n",
    "image_extensions = ['.jpg', '.jpeg', '.png', '.gif', '.bmp', '.tiff']\n",
    "\n",
    "with open('prompt_Plug-and-Play-datasets.txt', 'w') as file:\n",
    "    for root, dirs, files in os.walk('images/Plug-and-Play-datasets/'):\n",
    "        for filename in files:\n",
    "            file_path = os.path.join(root, filename)\n",
    "            print(file_path)\n",
    "            # 获取文件的扩展名\n",
    "            _, extension = os.path.splitext(filename)\n",
    "            if extension.lower() in image_extensions:\n",
    "                generated_text = BLIP_predict(file_path)\n",
    "                file.write(file_path + ': ' + generated_text + '\\n')\n",
    "\n"
   ]
  },
  {
   "cell_type": "markdown",
   "metadata": {},
   "source": [
    "## For pix2pix-zero's cats and dogs images."
   ]
  },
  {
   "cell_type": "code",
   "execution_count": null,
   "metadata": {},
   "outputs": [],
   "source": [
    "\n",
    "import os\n",
    "image_extensions = ['.jpg', '.jpeg', '.png', '.gif', '.bmp', '.tiff']\n",
    "\n",
    "with open('prompt_pix2pix-zero.txt', 'w') as file:\n",
    "    for root, dirs, files in os.walk('images/pix2pix-zero/'):\n",
    "        for filename in files:\n",
    "            file_path = os.path.join(root, filename)\n",
    "            print(file_path)\n",
    "            # 获取文件的扩展名\n",
    "            _, extension = os.path.splitext(filename)\n",
    "            if extension.lower() in image_extensions:\n",
    "                generated_text = BLIP_predict(file_path)\n",
    "                file.write(file_path + ': ' + generated_text + '\\n')\n",
    "\n"
   ]
  }
 ],
 "metadata": {
  "kernelspec": {
   "display_name": "torch2",
   "language": "python",
   "name": "python3"
  },
  "language_info": {
   "codemirror_mode": {
    "name": "ipython",
    "version": 3
   },
   "file_extension": ".py",
   "mimetype": "text/x-python",
   "name": "python",
   "nbconvert_exporter": "python",
   "pygments_lexer": "ipython3",
   "version": "3.11.4"
  },
  "orig_nbformat": 4
 },
 "nbformat": 4,
 "nbformat_minor": 2
}
