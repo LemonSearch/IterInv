{
 "cells": [
  {
   "cell_type": "code",
   "execution_count": null,
   "metadata": {},
   "outputs": [],
   "source": [
    "from PIL import Image\n",
    "import torchvision.transforms as transforms\n",
    "import torch\n",
    "from torchmetrics.image.lpip import LearnedPerceptualImagePatchSimilarity\n",
    "from torchmetrics import StructuralSimilarityIndexMeasure\n",
    "from torchmetrics.multimodal import CLIPScore\n",
    "from torchmetrics import PeakSignalNoiseRatio\n",
    "from _utils.extractor import VitExtractor\n",
    "\n",
    "# torch.set_default_device(7)\n",
    "\n",
    "dino_preprocess = transforms.Compose([\n",
    "        transforms.Resize(224),\n",
    "        transforms.ToTensor(),\n",
    "        transforms.Normalize((0.485, 0.456, 0.406), (0.229, 0.224, 0.225))\n",
    "    ])\n",
    "# vit_extractor = VitExtractor('dino_vitb8', 'cuda')\n",
    "\n",
    "psnr = PeakSignalNoiseRatio()\n",
    "metric = CLIPScore(model_name_or_path=\"openai/clip-vit-base-patch16\")\n",
    "lpips = LearnedPerceptualImagePatchSimilarity(net_type='vgg')\n",
    "ssim = StructuralSimilarityIndexMeasure(data_range=1.0)\n"
   ]
  },
  {
   "cell_type": "code",
   "execution_count": 6,
   "metadata": {},
   "outputs": [],
   "source": [
    "\n",
    "def evaluate_score_for_one_img(ori_img_tensor, prompt, our_image_tensor, ddim_image_tensor, ours_eval_dict, ddim_eval_dict):\n",
    "    if ori_img_tensor.shape[0] == 1:\n",
    "        ori_img_tensor = ori_img_tensor.repeat(3,1,1)\n",
    "\n",
    "    # 1. LPIPS scores, lower is better. \n",
    "    ori_ours_lpips_score = lpips(ori_img_tensor.unsqueeze(0)*2-1, our_image_tensor.unsqueeze(0)*2-1)\n",
    "    ori_ddim_lpips_score = lpips(ori_img_tensor.unsqueeze(0)*2-1, ddim_image_tensor.unsqueeze(0)*2-1)\n",
    "    ddim_eval_dict['lpips']+=ori_ddim_lpips_score.detach()\n",
    "    ours_eval_dict['lpips']+=ori_ours_lpips_score.detach()\n",
    "    # print('LPIPS scores:', ori_ours_lpips_score.detach(), ori_ddim_lpips_score.detach())\n",
    "\n",
    "    # 2. SSIM scores, bigger is better.\n",
    "    ssim_ddim =ssim(ddim_image_tensor.unsqueeze(0),ori_img_tensor.unsqueeze(0))\n",
    "    ssim_ours =ssim(our_image_tensor.unsqueeze(0),ori_img_tensor.unsqueeze(0))\n",
    "    ddim_eval_dict['ssim']+=ssim_ddim\n",
    "    ours_eval_dict['ssim']+=ssim_ours\n",
    "    # print('SSIM scores:', ssim_ours, ssim_ddim)\n",
    "\n",
    "    # 3. CLIP score, bigger is better ? \n",
    "    clip_ddim = metric(ddim_image_tensor,  prompt)\n",
    "    clip_ours = metric(our_image_tensor,  prompt)\n",
    "    ddim_eval_dict['clip_score']+=clip_ddim\n",
    "    ours_eval_dict['clip_score']+=clip_ours\n",
    "    # print(\"CLIP score:\", clip_ours.detach(), clip_ddim.detach())\n",
    "\n",
    "    # 4. PSNR scores, bigger is better.\n",
    "    psnr_ddim = psnr(ddim_image_tensor.unsqueeze(0),ori_img_tensor.unsqueeze(0))\n",
    "    psnr_ours = psnr(our_image_tensor.unsqueeze(0),ori_img_tensor.unsqueeze(0))\n",
    "    ddim_eval_dict['psnr']+=psnr_ddim\n",
    "    ours_eval_dict['psnr']+=psnr_ours\n",
    "    # print('PSNR scores:', psnr_ours, psnr_ddim)\n",
    "\n"
   ]
  },
  {
   "cell_type": "markdown",
   "metadata": {},
   "source": [
    "# image chooses, \n",
    "for source img, our-inv-img, ddim-img, do:\n"
   ]
  },
  {
   "cell_type": "code",
   "execution_count": 2,
   "metadata": {},
   "outputs": [
    {
     "data": {
      "text/plain": [
       "69"
      ]
     },
     "execution_count": 2,
     "metadata": {},
     "output_type": "execute_result"
    }
   ],
   "source": [
    "\n",
    "from PIL import Image\n",
    "import torch\n",
    "from torchvision import transforms\n",
    "\n",
    "org_transform = transforms.Compose([\n",
    "    # transforms.Grayscale(),\n",
    "    transforms.Resize(1024), \n",
    "    transforms.ToTensor(),\n",
    "])\n",
    "\n",
    "\n",
    "### NOTE: set the img paths of each from the prompt txt. \n",
    "root_pth = '.../ctang/deepfloyd/'\n",
    "folder = 'all_imgs_inversion_in_prompt_file'\n",
    "# choose the paramter settings of ours. \n",
    "ddim_stages = 'stages123'\n",
    "# our_setting = 'CFG1_3.0_CFG3_1.0_noise3_100_lr1_0.001_scale3_0.3_NPI_False' \n",
    "our_setting = 'CFG1_3.0_CFG3_1.0_noise3_100_lr1_0.001_scale3_0.3_NPI_True'\n",
    "\n",
    "\n",
    "ddim_eval_dict={'lpips':0, 'ssim':0, 'clip_score':0, 'psnr':0,  }\n",
    "ours_eval_dict={'lpips':0, 'ssim':0, 'clip_score':0, 'psnr':0,  }\n",
    "\n",
    "count_imgs = 0 \n",
    "with open('prompt_all_imgs.txt', 'r') as file:\n",
    "    # 逐行读取prompt文件内容\n",
    "    for line in file: \n",
    "        # 使用分号分隔每一行\n",
    "        ori_img_pth, prompt = line.strip().split(': ')\n",
    "\n",
    "        image_name = ori_img_pth.split('/')[-1].split('.')[0]  # cat_6       \n",
    "        _prompt = '_'.join(prompt.split(' '))\n",
    "        \n",
    "        ori_img_pth = root_pth + ori_img_pth\n",
    "        ours_img_path = root_pth+ f'output/{folder}/{image_name}/{our_setting}/{_prompt}/if_stage_III_rec.png'\n",
    "        # ddim_img_path = root_pth+ f'DDIM_output/only_stage3/{prompt}_if_stage_III_rec.png'\n",
    "        ddim_img_path = root_pth+ f'DDIM_output/{ddim_stages}/{prompt}_ddim_stage123_III_rec.png'\n",
    "\n",
    "        ddim_image = Image.open(ddim_img_path)\n",
    "        our_image = Image.open(ours_img_path)\n",
    "        ori_img = Image.open(ori_img_pth)\n",
    "\n",
    "        ddim_image_tensor = transforms.ToTensor()(ddim_image)\n",
    "        our_image_tensor = transforms.ToTensor()(our_image)\n",
    "        ori_img_tensor = org_transform(ori_img)\n",
    "\n",
    "        # evaluate_score_for_one_img(ori_img_tensor, prompt, our_image_tensor, ddim_image_tensor, ours_eval_dict, ddim_eval_dict)\n",
    "        count_imgs += 1  \n",
    "\n",
    "        if ori_img_tensor.shape[0] == 4:\n",
    "            ori_img_tensor = ori_img_tensor.repeat(3,1,1)\n",
    "\n",
    "        # 1. LPIPS scores, lower is better. \n",
    "        ori_ours_lpips_score = lpips(ori_img_tensor.unsqueeze(0)*2-1, our_image_tensor.unsqueeze(0)*2-1)\n",
    "        ori_ddim_lpips_score = lpips(ori_img_tensor.unsqueeze(0)*2-1, ddim_image_tensor.unsqueeze(0)*2-1)\n",
    "        ddim_eval_dict['lpips']+=ori_ddim_lpips_score.detach()\n",
    "        ours_eval_dict['lpips']+=ori_ours_lpips_score.detach()\n",
    "        # print('LPIPS scores:', ori_ours_lpips_score.detach(), ori_ddim_lpips_score.detach())\n",
    "\n",
    "        # 2. SSIM scores, bigger is better.\n",
    "        ssim_ddim =ssim(ddim_image_tensor.unsqueeze(0),ori_img_tensor.unsqueeze(0))\n",
    "        ssim_ours =ssim(our_image_tensor.unsqueeze(0),ori_img_tensor.unsqueeze(0))\n",
    "        ddim_eval_dict['ssim']+=ssim_ddim\n",
    "        ours_eval_dict['ssim']+=ssim_ours\n",
    "        # print('SSIM scores:', ssim_ours, ssim_ddim)\n",
    "\n",
    "        # 3. CLIP score, bigger is better ? \n",
    "        clip_ddim = metric(ddim_image_tensor,  prompt)\n",
    "        clip_ours = metric(our_image_tensor,  prompt)\n",
    "        ddim_eval_dict['clip_score']+=clip_ddim\n",
    "        ours_eval_dict['clip_score']+=clip_ours\n",
    "        # print(\"CLIP score:\", clip_ours.detach(), clip_ddim.detach())\n",
    "\n",
    "        # 4. PSNR scores, bigger is better.\n",
    "        psnr_ddim = psnr(ddim_image_tensor.unsqueeze(0),ori_img_tensor.unsqueeze(0))\n",
    "        psnr_ours = psnr(our_image_tensor.unsqueeze(0),ori_img_tensor.unsqueeze(0))\n",
    "        ddim_eval_dict['psnr']+=psnr_ddim\n",
    "        ours_eval_dict['psnr']+=psnr_ours\n",
    "        # print('PSNR scores:', psnr_ours, psnr_ddim)\n",
    "\n",
    "count_imgs"
   ]
  },
  {
   "cell_type": "markdown",
   "metadata": {},
   "source": [
    "# score measures"
   ]
  },
  {
   "cell_type": "code",
   "execution_count": 3,
   "metadata": {},
   "outputs": [
    {
     "name": "stdout",
     "output_type": "stream",
     "text": [
      "{'lpips': tensor(0.0356), 'ssim': tensor(0.9806), 'clip_score': tensor(21.3158, grad_fn=<DivBackward0>), 'psnr': tensor(40.5955)}\n",
      "{'lpips': tensor(0.6393), 'ssim': tensor(0.5821), 'clip_score': tensor(21.2223, grad_fn=<DivBackward0>), 'psnr': tensor(11.8366)}\n"
     ]
    }
   ],
   "source": [
    "\n",
    "\n",
    "# count_imgs\n",
    "# ddim_eval_dict['clip_score']\n",
    "# count_imgs = 1\n",
    "for key in ddim_eval_dict.keys():\n",
    "    ddim_eval_dict[key] /= count_imgs\n",
    "for key in ours_eval_dict.keys():\n",
    "    ours_eval_dict[key] /= count_imgs\n",
    "\n",
    "print(ours_eval_dict)\n",
    "print(ddim_eval_dict)\n"
   ]
  }
 ],
 "metadata": {
  "kernelspec": {
   "display_name": "floydkai",
   "language": "python",
   "name": "python3"
  },
  "language_info": {
   "codemirror_mode": {
    "name": "ipython",
    "version": 3
   },
   "file_extension": ".py",
   "mimetype": "text/x-python",
   "name": "python",
   "nbconvert_exporter": "python",
   "pygments_lexer": "ipython3",
   "version": "3.11.4"
  },
  "orig_nbformat": 4
 },
 "nbformat": 4,
 "nbformat_minor": 2
}
